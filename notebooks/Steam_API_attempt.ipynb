{
 "cells": [
  {
   "attachments": {},
   "cell_type": "markdown",
   "metadata": {},
   "source": [
    "### STEAM API"
   ]
  },
  {
   "cell_type": "code",
   "execution_count": 3,
   "metadata": {},
   "outputs": [],
   "source": [
    "#pip install python-steam-api\n",
    "#pip install BeautifulSoup\n",
    "from steam import Steam\n",
    "from decouple import config\n",
    "\n",
    "KEY = \"179B3422887D72401CE4BE85735186C2\"\n",
    "\n",
    "#KEY = config(\"STEAM_API_KEY\")\n"
   ]
  },
  {
   "cell_type": "code",
   "execution_count": null,
   "metadata": {},
   "outputs": [],
   "source": [
    "steam_data_json = {}  # Dictionary to store the data\n",
    "\n",
    "for appid_row in range(len(app_list)):\n",
    "    app_id = app_list['appid'][appid_row]\n",
    "    app_details = steam.apps.get_app_details(app_id)\n",
    "    \n",
    "    try:\n",
    "        json_data = json.loads(app_details)\n",
    "        if json_data is not None:\n",
    "            steam_data_json.update(json_data)\n",
    "        else:\n",
    "            print(f\"Failed to fetch details for app ID: {app_id}\")\n",
    "    except Exception as e:\n",
    "        print(f\"Error parsing JSON for app ID: {app_id}\")\n",
    "        print(f\"Error message: {str(e)}\")\n",
    "    \n",
    "    # Add a 1-second break after every 100 requests\n",
    "    if (appid_row + 1) % 100 == 0:\n",
    "        time.sleep(20)\n",
    "\n",
    "#return steam_data_json"
   ]
  },
  {
   "cell_type": "code",
   "execution_count": null,
   "metadata": {},
   "outputs": [],
   "source": [
    "def get_steam_data(app_list):\n",
    "    steam_data_json = {}  # Dictionary to store the data\n",
    "\n",
    "    for appid_row in range(len(app_list)):\n",
    "        app_id = app_list['appid'][appid_row]\n",
    "        app_details = steam.apps.get_app_details(app_id)\n",
    "\n",
    "        try:\n",
    "            json_data = json.loads(app_details)\n",
    "            if json_data is not None:\n",
    "                steam_data_json.update(json_data)\n",
    "            else:\n",
    "                print(f\"Failed to fetch details for app ID: {app_id}\")\n",
    "        except Exception as e:\n",
    "            print(f\"Error parsing JSON for app ID: {app_id}\")\n",
    "            print(f\"Error message: {str(e)}\")\n",
    "\n",
    "        # Add a 30-second break in case json_data is None\n",
    "        if json_data is None:\n",
    "            time.sleep(30)\n",
    "\n",
    "        # Add a 1-second break after every 100 requests\n",
    "        if (appid_row + 1) % 100 == 0:\n",
    "            time.sleep(1)\n",
    "\n",
    "    return steam_data_json\n"
   ]
  },
  {
   "cell_type": "code",
   "execution_count": null,
   "metadata": {},
   "outputs": [],
   "source": [
    "import random\n",
    "\n",
    "def fetch_steam_data(app_list):\n",
    "    steam_data_json = {}  # Dictionary to store the data\n",
    "\n",
    "    for appid_row in range(len(app_list)):\n",
    "        app_id = app_list['appid'][appid_row]\n",
    "        app_details = steam.apps.get_app_details(app_id)\n",
    "\n",
    "        try:\n",
    "            json_data = json.loads(app_details)\n",
    "            if json_data is not None:\n",
    "                steam_data_json.update(json_data)\n",
    "            else:\n",
    "                print('Failed to fetch details for app ID: {} on {}'.format(app_id, time.asctime()))\n",
    "        except Exception as e:\n",
    "            print(f'Error parsing JSON for app ID: {app_id}')\n",
    "            print(f'Error message: {str(e)}')\n",
    "\n",
    "        # Add a random break after each request\n",
    "        random_break = random.uniform(0.1, 1.0)  # Generate a random duration between 0.1 and 1.0 seconds\n",
    "        time.sleep(random_break)\n",
    "\n",
    "        # Print progress after every 500 requests\n",
    "        if (appid_row + 1) % 500 == 0:\n",
    "            print('Processed {} requests on {}.'.format(appid_row, time.asctime()))\n",
    "\n",
    "\n",
    "    return steam_data_json"
   ]
  },
  {
   "cell_type": "code",
   "execution_count": null,
   "metadata": {},
   "outputs": [],
   "source": [
    "steam_data = fetch_steam_data(app_list)"
   ]
  },
  {
   "cell_type": "code",
   "execution_count": null,
   "metadata": {},
   "outputs": [],
   "source": [
    "import random\n",
    "\n",
    "steam_data_json = {}  # Dictionary to store the data\n",
    "\n",
    "for appid_row in range(len(app_list)):\n",
    "    app_id = app_list['appid'][appid_row]\n",
    "    app_details = steam.apps.get_app_details(app_id)\n",
    "\n",
    "    try:\n",
    "        json_data = json.loads(app_details)\n",
    "        if json_data is not None:\n",
    "            steam_data_json.update(json_data)\n",
    "        else:\n",
    "            print('Failed to fetch details for app ID: {} on {}'.format(app_id, time.asctime()))\n",
    "    except Exception as e:\n",
    "        print(f'Error parsing JSON for app ID: {app_id}')\n",
    "        print(f'Error message: {str(e)}')\n",
    "\n",
    "    # Add a random break after each request\n",
    "    random_break = random.uniform(0.1, 1.0)  # Generate a random duration between 0.1 and 1.0 seconds\n",
    "    time.sleep(random_break)\n",
    "\n",
    "    # Print progress after every 500 requests\n",
    "    if (appid_row + 1) % 500 == 0:\n",
    "        print('Processed {} requests on {}.'.format(appid_row, time.asctime()))"
   ]
  },
  {
   "cell_type": "code",
   "execution_count": null,
   "metadata": {},
   "outputs": [],
   "source": [
    "#df = pd.read_json(\"json\")\n",
    "\n",
    "def read_json_file(file_path):\n",
    "    with open(file_path, 'r') as file:\n",
    "        json_data = json.load(file)\n",
    "    return json_data\n",
    "\n",
    "# Example usage:\n",
    "file_path = '/Users/sstefanovic/Documents/GitHub/LHL-Capstone_Project/data/test_steamspy.json'  # Replace with the actual path to your JSON file\n",
    "json_data = read_json_file(file_path)\n",
    "\n",
    "\n"
   ]
  }
 ],
 "metadata": {
  "kernelspec": {
   "display_name": "LHL_Bootcamp",
   "language": "python",
   "name": "lhl_bootcamp"
  },
  "language_info": {
   "codemirror_mode": {
    "name": "ipython",
    "version": 3
   },
   "file_extension": ".py",
   "mimetype": "text/x-python",
   "name": "python",
   "nbconvert_exporter": "python",
   "pygments_lexer": "ipython3",
   "version": "3.8.16"
  },
  "orig_nbformat": 4
 },
 "nbformat": 4,
 "nbformat_minor": 2
}
